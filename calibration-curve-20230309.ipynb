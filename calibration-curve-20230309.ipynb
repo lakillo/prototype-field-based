{
 "cells": [
  {
   "cell_type": "markdown",
   "id": "cb74b81a",
   "metadata": {},
   "source": [
    "# calibration curve for arran data\n",
    "\n",
    "## data\n",
    "\n",
    "#### predicted-weight\tactual-label  \n",
    "0.00000000000\thut-circle  \n",
    "0.50001263619\thut-circle    \n",
    "0.50002878904\tquarry  \n",
    "0.50003671646\thut-circle  \n",
    "0.50028467178\tpost-med-enclosure  \n",
    "0.50147795677\thut-circle  \n",
    "0.50147795677\tquarry  \n",
    "0.50147795677\tsheiling-hut  \n",
    "0.50244909525\thut-circle-possible  \n",
    "0.50729310513\thut-circle  \n",
    "0.50729310513\thut-circle-possible  \n",
    "0.53579485416\thut-circle  \n",
    "0.53579485416\thut-circle-possible  \n",
    "0.56556737423\thut-circle-possible  \n",
    "0.76028591394\tnatural  \n",
    "0.76028591394\tpost-med-building  \n",
    "0.83556908369\tburnt-mound  \n",
    "0.86460709572\thut-circle  \n",
    "0.92964458466\thut-circle-possible  \n",
    "0.997213423\t    quarry  \n",
    "0.99996662140\thut-circle  \n",
    "0.99999839067\thut-circle  \n",
    "0.99999994039\thut-circle-possible  \n",
    "1.00000000000\tnatural  \n",
    "1.00000000000\tburnt-mound  \n",
    "1.00000000000\tnatural  \n",
    "1.00000000000\thut-circle  \n",
    "\n",
    "## y_true values\n",
    "\n",
    "hut circle or hut-circle-possible = 1\n",
    "anything else = 0"
   ]
  },
  {
   "cell_type": "code",
   "execution_count": 11,
   "id": "b00faf79",
   "metadata": {},
   "outputs": [],
   "source": [
    "import numpy as np\n",
    "import matplotlib.pyplot as plt\n",
    "from sklearn.calibration import calibration_curve"
   ]
  },
  {
   "cell_type": "code",
   "execution_count": 12,
   "id": "6e178651",
   "metadata": {},
   "outputs": [],
   "source": [
    "y_true = np.array([1, 1, 0, 1, 0, 1, 0, 0, 1, 1, 1, 1, 1, 1, 0, 0, 0, 1, 1, 0, 1, 1, 1, 0, 0, 0, 1])"
   ]
  },
  {
   "cell_type": "code",
   "execution_count": 13,
   "id": "57c12d12",
   "metadata": {},
   "outputs": [],
   "source": [
    "y_pred = np.array([0.00000000000, 0.50001263619, 0.50002878904, 0.50003671646, 0.50028467178, 0.50147795677, \n",
    "                   0.50147795677, 0.50147795677, 0.50244909525, 0.50729310513, 0.50729310513, 0.53579485416, \n",
    "                   0.53579485416, 0.56556737423, 0.76028591394, 0.76028591394, 0.83556908369, 0.86460709572, \n",
    "                   0.92964458466, 0.997213423, 0.99996662140, 0.99999839067, 0.99999994039, 1.00000000000, \n",
    "                   1.00000000000, 1.00000000000, 1.00000000000])"
   ]
  },
  {
   "cell_type": "code",
   "execution_count": 14,
   "id": "eece3d70",
   "metadata": {},
   "outputs": [],
   "source": [
    "prob_true, prob_pred = calibration_curve(y_true, y_pred, n_bins=9)"
   ]
  },
  {
   "cell_type": "code",
   "execution_count": 15,
   "id": "692aaa06",
   "metadata": {},
   "outputs": [
    {
     "data": {
      "text/plain": [
       "array([0.        , 0.50778514, 0.56556737, 0.76028591, 0.85008809,\n",
       "       0.99186922])"
      ]
     },
     "execution_count": 15,
     "metadata": {},
     "output_type": "execute_result"
    }
   ],
   "source": [
    "prob_pred"
   ]
  },
  {
   "cell_type": "code",
   "execution_count": 16,
   "id": "ff442464",
   "metadata": {},
   "outputs": [
    {
     "data": {
      "text/plain": [
       "array([1.        , 0.66666667, 1.        , 0.        , 0.5       ,\n",
       "       0.55555556])"
      ]
     },
     "execution_count": 16,
     "metadata": {},
     "output_type": "execute_result"
    }
   ],
   "source": [
    "prob_true"
   ]
  },
  {
   "cell_type": "code",
   "execution_count": 17,
   "id": "c5cb8936",
   "metadata": {
    "scrolled": true
   },
   "outputs": [
    {
     "data": {
      "image/png": "[encoded data removed]",
      "text/plain": [
       "<Figure size 432x288 with 1 Axes>"
      ]
     },
     "metadata": {
      "needs_background": "light"
     },
     "output_type": "display_data"
    }
   ],
   "source": [
    "fig, ax = plt.subplots()\n",
    "ax.plot(prob_pred, prob_true)\n",
    "\n",
    "ax.set(xlabel='predicted probability', ylabel='fraction of positive',\n",
    "       title='calibration curve for arran data')\n",
    "ax.grid()\n",
    "\n",
    "plt.show()"
   ]
  },
  {
   "cell_type": "code",
   "execution_count": null,
   "id": "8249fff7",
   "metadata": {},
   "outputs": [],
   "source": []
  }
 ],
 "metadata": {
  "kernelspec": {
   "display_name": "Python 3 (ipykernel)",
   "language": "python",
   "name": "python3"
  },
  "language_info": {
   "codemirror_mode": {
    "name": "ipython",
    "version": 3
   },
   "file_extension": ".py",
   "mimetype": "text/x-python",
   "name": "python",
   "nbconvert_exporter": "python",
   "pygments_lexer": "ipython3",
   "version": "3.9.12"
  }
 },
 "nbformat": 4,
 "nbformat_minor": 5
}
